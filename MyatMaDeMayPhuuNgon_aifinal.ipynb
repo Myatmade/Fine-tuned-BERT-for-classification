{
  "cells": [
    {
      "cell_type": "markdown",
      "source": [
        "**Part 1: Preprocessing Data**\n",
        "\n",
        "Please note that the original preprocessing code and training files were run on different files separately."
      ],
      "metadata": {
        "id": "nUntI1JapcAO"
      }
    },
    {
      "cell_type": "markdown",
      "source": [
        "Created by : Myat Ma De May Phuu Ngon (26002304901)"
      ],
      "metadata": {
        "id": "_ZqVlDcBqhNA"
      }
    },
    {
      "cell_type": "code",
      "source": [
        "# Myat Ma De May Phuu Ngon\n",
        "# 26002304901\n",
        "\n",
        "# Importing necessary libraries\n",
        "import pandas as pd\n",
        "import re                                       #For regular expressions\n",
        "from sklearn.preprocessing import LabelEncoder  #For encoding categorical variables\n",
        "from google.colab import drive\n",
        "\n",
        "# Mounting Google Drive for data access\n",
        "drive.mount('/content/drive')\n",
        "\n",
        "# Function for cleaning abstract text\n",
        "def clean_text(text):\n",
        "  \"\"\"Clean data step by step and returns the cleaned text\"\"\"\n",
        "    text = text.lower()  # Convert to lowercase\n",
        "    text = re.sub(r\"http\\S+|www\\S+|https\\S+\", \"\", text)  # Remove URLs\n",
        "    text = re.sub(r\"<.*?>\", \"\", text)  # Remove HTML tags\n",
        "    text = re.sub(r\"[^a-zA-Z0-9\\s]\", \"\", text)  # Remove special characters (retain alphanumeric)\n",
        "    text = re.sub(r\"\\s+\", \" \", text).strip()  # Remove extra spaces\n",
        "    return text\n",
        "\n",
        "# Function to clean and save a dataset\n",
        "def clean_and_save_dataset(file_path, label_name, save_path):\n",
        "    # Loading dataset\n",
        "    df = pd.read_csv(file_path)\n",
        "\n",
        "    # Dropping missing values in the 'Abstract' column\n",
        "    df = df.dropna(subset=[\"Abstract\"]).reset_index(drop=True)\n",
        "\n",
        "    # Removing duplicate abstracts\n",
        "    df = df.drop_duplicates(subset=\"Abstract\").reset_index(drop=True)\n",
        "\n",
        "    # Cleaning the text in the 'Abstract' column\n",
        "    df[\"Abstract\"] = df[\"Abstract\"].apply(clean_text)\n",
        "\n",
        "    # Adding the label column\n",
        "    df[\"Label\"] = label_name\n",
        "\n",
        "    # Saving the cleaned dataset to directory\n",
        "    df.to_csv(save_path, index=False)\n",
        "    print(f\"Cleaned {label_name} dataset saved to {save_path}\")\n",
        "    return df\n",
        "\n",
        "# Paths to the raw CSV files in Google Drive to access\n",
        "astronomy_file = '/content/drive/My Drive/AI/Astronomy_abstracts.csv'\n",
        "psychology_file = '/content/drive/My Drive/AI/Psychology_abstracts.csv'\n",
        "sociology_file = '/content/drive/My Drive/AI/Sociology_abstracts.csv'\n",
        "\n",
        "# Saving paths for cleaned CSV files in Google Drive\n",
        "cleaned_astronomy_file = '/content/drive/My Drive/AI/cleaned_astronomy.csv'\n",
        "cleaned_psychology_file = '/content/drive/My Drive/AI/cleaned_psychology.csv'\n",
        "cleaned_sociology_file = '/content/drive/My Drive/AI/cleaned_sociology.csv'\n",
        "\n",
        "# Clean and save datasets individually\n",
        "astronomy_df = clean_and_save_dataset(astronomy_file, \"Astronomy\", cleaned_astronomy_file)\n",
        "psychology_df = clean_and_save_dataset(psychology_file, \"Psychology\", cleaned_psychology_file)\n",
        "sociology_df = clean_and_save_dataset(sociology_file, \"Sociology\", cleaned_sociology_file)\n",
        "\n",
        "# Combining all cleaned datasets\n",
        "combined_df = pd.concat([astronomy_df, psychology_df, sociology_df], ignore_index=True)\n",
        "\n",
        "# Encoding labels numerically\n",
        "label_encoder = LabelEncoder()\n",
        "combined_df[\"Label\"] = label_encoder.fit_transform(combined_df[\"Label\"])\n",
        "\n",
        "# To save the label mapping for reference\n",
        "label_mapping = dict(zip(label_encoder.classes_, label_encoder.transform(label_encoder.classes_)))\n",
        "print(f\"Label Mapping: {label_mapping}\")\n",
        "\n",
        "# Save the combined cleaned dataset to Google Drive in a new csv file, put print statement to see action done\n",
        "combined_file = '/content/drive/My Drive/AI/combined_cleaned_data.csv'\n",
        "combined_df.to_csv(combined_file, index=False)\n",
        "print(f\"Combined cleaned dataset saved to {combined_file}\")\n",
        "\n"
      ],
      "metadata": {
        "id": "1CImCjvJo8u7"
      },
      "execution_count": null,
      "outputs": []
    },
    {
      "cell_type": "code",
      "source": [
        "# Load the cleaned combined dataset and read\n",
        "combined_file = '/content/drive/My Drive/AI/combined_cleaned_data.csv'\n",
        "df = pd.read_csv(combined_file)\n",
        "\n",
        "# Checking if there is any duplicate to be sure, before we put into the training code\n",
        "duplicates = df.duplicated(subset=\"Abstract\", keep=False)\n",
        "print(f\"Number of duplicate abstracts: {duplicates.sum()}\")\n",
        "\n",
        "# Checking if there is any missing values\n",
        "print(df[\"Label\"].value_counts())\n",
        "# Checking if there is any missing abstracts\n",
        "print(df[\"Abstract\"].value_counts())"
      ],
      "metadata": {
        "id": "s73Kdb-ppOTf"
      },
      "execution_count": null,
      "outputs": []
    },
    {
      "cell_type": "markdown",
      "source": [
        "**Part 2: Training**"
      ],
      "metadata": {
        "id": "7_kifgm8dChq"
      }
    },
    {
      "cell_type": "code",
      "execution_count": null,
      "metadata": {
        "id": "seZeb7dq7FRS"
      },
      "outputs": [],
      "source": [
        "# Importing necessary libraries\n",
        "from sklearn.model_selection import StratifiedKFold # for k-fold cross validation\n",
        "import numpy as np  # Numpy for numerical operations\n",
        "import pandas as pd # Pandas for data manipulation\n",
        "from transformers import BertTokenizer, BertForSequenceClassification, TrainingArguments, Trainer #Importing the model for this project, BERT\n",
        "from sklearn.metrics import accuracy_score, precision_recall_fscore_support # the metrics for evaluation after training\n",
        "import torch # Pytorch for deep learning\n",
        "from torch.utils.data import Dataset    # for custom datasets\n",
        "from sklearn.metrics import classification_report # classification metrics"
      ]
    },
    {
      "cell_type": "code",
      "execution_count": null,
      "metadata": {
        "id": "ZprOPdXN7FwB"
      },
      "outputs": [],
      "source": [
        "# Loading the cleaned combined dataset from drive and\n",
        "# Reading my dataset into a pandas dataframe\n",
        "combined_file = '/content/drive/My Drive/AI/combined_cleaned_data.csv'\n",
        "df = pd.read_csv(combined_file)\n",
        "\n",
        "# Preparing Stratified k-fold for cross validation\n",
        "# Number of folds is 5; this is going to be alternated between training and validating\n",
        "# Initialized with 5 folds, random state is given an int to make the results reproducible while shuffled on\n",
        "num_folds = 5\n",
        "skf = StratifiedKFold(n_splits=num_folds, shuffle=True, random_state=42)\n",
        "\n",
        "# Initialize the BERT tokenizer and we used the pre-trained bert-base-uncased model, which ignores case of text\n",
        "tokenizer = BertTokenizer.from_pretrained(\"bert-base-uncased\")\n",
        "num_labels = df[\"Label\"].nunique()  # returns number of unique labels in dataset"
      ]
    },
    {
      "cell_type": "code",
      "execution_count": null,
      "metadata": {
        "id": "WiPZWQf37Hah"
      },
      "outputs": [],
      "source": [
        "# This is for initialixing a custom dataset class for BERT\n",
        "class BERTDataset(Dataset):\n",
        "    \"\"\"We have texts, labels, tokenizer and max_length for tokenization by using PyTorch\n",
        "    Args:\n",
        "        texts (list): List of texts to be tokenized\n",
        "        labels (list): List of labels for the texts\n",
        "        tokenizer (object): Tokenizer object from Hugging Face's transformers library\n",
        "        max_length (int): Maximum length of the tokenized text\n",
        "    Returns:\n",
        "        PyTorch tensor of encoded text, attention mask applied and label\n",
        "    \"\"\"\n",
        "    def __init__(self, texts, labels, tokenizer, max_length=512):\n",
        "        self.texts = texts\n",
        "        self.labels = labels\n",
        "        self.tokenizer = tokenizer\n",
        "        self.max_length = max_length\n",
        "\n",
        "    def __len__(self):\n",
        "        \"\"\"\n",
        "        Returns: the number of label samples in the dataset\"\"\"\n",
        "        return len(self.labels)\n",
        "\n",
        "    def __getitem__(self, idx):\n",
        "        \"\"\"Tokenizes the text and returns the tokenized text and label.\n",
        "        Max length is used for padding and truncation. Truncation is for cutting off text longer than max length.\n",
        "        Padding is adding zeros to text shorter than max length.\n",
        "        Returns PyTorch tensor of encoded text, attention mask applied and label.\n",
        "        Tensors are a core PyTorch data structure to store and manipulate inputs and outputs of a model, similar to NumPy.\n",
        "        Input IDs are the result of tokenizing the abstract.\n",
        "        Attention mask is for differentiating between padding and actual text. (0 for padding, 1 for actual text)\n",
        "\n",
        "        Returns:\n",
        "            Dictionary of input_ids, attention_mask and label\"\"\"\n",
        "        text = self.texts[idx]      #Gets the text at the index\n",
        "        label = self.labels[idx]    #Gets the label at the index\n",
        "        #Tokenizes the text\n",
        "        encoding = self.tokenizer(\n",
        "            text,\n",
        "            truncation=True,\n",
        "            padding=\"max_length\",\n",
        "            max_length=self.max_length,\n",
        "            return_tensors=\"pt\",\n",
        "        )\n",
        "        return {\n",
        "            \"input_ids\": encoding[\"input_ids\"].squeeze(0),  #Input IDs tensor, squeeze(0) removes the extra dimension\n",
        "            \"attention_mask\": encoding[\"attention_mask\"].squeeze(0),    #Attention mask tensor, extra dimension removed\n",
        "            \"labels\": torch.tensor(label, dtype=torch.long),    #Labels tensor, converted to long data type\n",
        "        }"
      ]
    },
    {
      "cell_type": "code",
      "execution_count": null,
      "metadata": {
        "id": "uQzU-X5E7LYj"
      },
      "outputs": [],
      "source": [
        "def compute_metrics(pred):\n",
        "    \"This is the function to compute the metrics for evaluation\"\n",
        "    labels = pred.label_ids                         #True labels\n",
        "    preds = np.argmax(pred.predictions, axis=1)     #Predicted labels\n",
        "    accuracy = accuracy_score(labels, preds)        #For accuracy\n",
        "    precision, recall, f1, _ = precision_recall_fscore_support(labels, preds, average=\"weighted\")   #For precision, recall and f1-score\n",
        "    return {\"accuracy\": accuracy, \"precision\": precision, \"recall\": recall, \"f1\": f1}   #Returns the four metrics"
      ]
    },
    {
      "cell_type": "markdown",
      "source": [
        "Actual Training and Metrics results"
      ],
      "metadata": {
        "id": "weEx35ojoyma"
      }
    },
    {
      "cell_type": "code",
      "execution_count": null,
      "metadata": {
        "colab": {
          "base_uri": "https://localhost:8080/",
          "height": 1000
        },
        "id": "xnQnyQa17PbE",
        "outputId": "d3127d73-c127-4395-c8b6-e551a216967b"
      },
      "outputs": [
        {
          "output_type": "stream",
          "name": "stdout",
          "text": [
            "\n",
            "Starting training for Fold 1/5\n"
          ]
        },
        {
          "output_type": "stream",
          "name": "stderr",
          "text": [
            "Some weights of BertForSequenceClassification were not initialized from the model checkpoint at bert-base-uncased and are newly initialized: ['classifier.bias', 'classifier.weight']\n",
            "You should probably TRAIN this model on a down-stream task to be able to use it for predictions and inference.\n",
            "/usr/local/lib/python3.10/dist-packages/transformers/training_args.py:1575: FutureWarning: `evaluation_strategy` is deprecated and will be removed in version 4.46 of 🤗 Transformers. Use `eval_strategy` instead\n",
            "  warnings.warn(\n",
            "<ipython-input-5-8636de5daa98>:36: FutureWarning: `tokenizer` is deprecated and will be removed in version 5.0.0 for `Trainer.__init__`. Use `processing_class` instead.\n",
            "  trainer = Trainer(\n"
          ]
        },
        {
          "output_type": "display_data",
          "data": {
            "text/plain": [
              "<IPython.core.display.HTML object>"
            ],
            "text/html": [
              "\n",
              "    <div>\n",
              "      \n",
              "      <progress value='900' max='900' style='width:300px; height:20px; vertical-align: middle;'></progress>\n",
              "      [900/900 03:45, Epoch 5/5]\n",
              "    </div>\n",
              "    <table border=\"1\" class=\"dataframe\">\n",
              "  <thead>\n",
              " <tr style=\"text-align: left;\">\n",
              "      <th>Epoch</th>\n",
              "      <th>Training Loss</th>\n",
              "      <th>Validation Loss</th>\n",
              "      <th>Accuracy</th>\n",
              "      <th>Precision</th>\n",
              "      <th>Recall</th>\n",
              "      <th>F1</th>\n",
              "    </tr>\n",
              "  </thead>\n",
              "  <tbody>\n",
              "    <tr>\n",
              "      <td>1</td>\n",
              "      <td>0.651200</td>\n",
              "      <td>0.636359</td>\n",
              "      <td>0.861111</td>\n",
              "      <td>0.878083</td>\n",
              "      <td>0.861111</td>\n",
              "      <td>0.858267</td>\n",
              "    </tr>\n",
              "    <tr>\n",
              "      <td>2</td>\n",
              "      <td>0.355200</td>\n",
              "      <td>0.320909</td>\n",
              "      <td>0.977778</td>\n",
              "      <td>0.978124</td>\n",
              "      <td>0.977778</td>\n",
              "      <td>0.977772</td>\n",
              "    </tr>\n",
              "    <tr>\n",
              "      <td>3</td>\n",
              "      <td>0.253300</td>\n",
              "      <td>0.158114</td>\n",
              "      <td>0.977778</td>\n",
              "      <td>0.978124</td>\n",
              "      <td>0.977778</td>\n",
              "      <td>0.977772</td>\n",
              "    </tr>\n",
              "    <tr>\n",
              "      <td>4</td>\n",
              "      <td>0.164000</td>\n",
              "      <td>0.104859</td>\n",
              "      <td>0.983333</td>\n",
              "      <td>0.983421</td>\n",
              "      <td>0.983333</td>\n",
              "      <td>0.983332</td>\n",
              "    </tr>\n",
              "    <tr>\n",
              "      <td>5</td>\n",
              "      <td>0.081700</td>\n",
              "      <td>0.093837</td>\n",
              "      <td>0.983333</td>\n",
              "      <td>0.983421</td>\n",
              "      <td>0.983333</td>\n",
              "      <td>0.983332</td>\n",
              "    </tr>\n",
              "  </tbody>\n",
              "</table><p>"
            ]
          },
          "metadata": {}
        },
        {
          "output_type": "stream",
          "name": "stdout",
          "text": [
            "Model and tokenizer for Fold 1 saved to /content/drive/My Drive/AI/bert_ver2_fold_1\n"
          ]
        },
        {
          "output_type": "display_data",
          "data": {
            "text/plain": [
              "<IPython.core.display.HTML object>"
            ],
            "text/html": [
              "\n",
              "    <div>\n",
              "      \n",
              "      <progress value='45' max='45' style='width:300px; height:20px; vertical-align: middle;'></progress>\n",
              "      [45/45 00:02]\n",
              "    </div>\n",
              "    "
            ]
          },
          "metadata": {}
        },
        {
          "output_type": "stream",
          "name": "stdout",
          "text": [
            "\n",
            "Metrics for Fold 1\n",
            "  Accuracy: 0.9833\n",
            "  Precision: 0.9834\n",
            "  Recall: 0.9833\n",
            "  F1-score: 0.9833\n",
            "\n",
            "Starting training for Fold 2/5\n"
          ]
        },
        {
          "output_type": "stream",
          "name": "stderr",
          "text": [
            "Some weights of BertForSequenceClassification were not initialized from the model checkpoint at bert-base-uncased and are newly initialized: ['classifier.bias', 'classifier.weight']\n",
            "You should probably TRAIN this model on a down-stream task to be able to use it for predictions and inference.\n",
            "/usr/local/lib/python3.10/dist-packages/transformers/training_args.py:1575: FutureWarning: `evaluation_strategy` is deprecated and will be removed in version 4.46 of 🤗 Transformers. Use `eval_strategy` instead\n",
            "  warnings.warn(\n",
            "<ipython-input-5-8636de5daa98>:36: FutureWarning: `tokenizer` is deprecated and will be removed in version 5.0.0 for `Trainer.__init__`. Use `processing_class` instead.\n",
            "  trainer = Trainer(\n"
          ]
        },
        {
          "output_type": "display_data",
          "data": {
            "text/plain": [
              "<IPython.core.display.HTML object>"
            ],
            "text/html": [
              "\n",
              "    <div>\n",
              "      \n",
              "      <progress value='900' max='900' style='width:300px; height:20px; vertical-align: middle;'></progress>\n",
              "      [900/900 03:26, Epoch 5/5]\n",
              "    </div>\n",
              "    <table border=\"1\" class=\"dataframe\">\n",
              "  <thead>\n",
              " <tr style=\"text-align: left;\">\n",
              "      <th>Epoch</th>\n",
              "      <th>Training Loss</th>\n",
              "      <th>Validation Loss</th>\n",
              "      <th>Accuracy</th>\n",
              "      <th>Precision</th>\n",
              "      <th>Recall</th>\n",
              "      <th>F1</th>\n",
              "    </tr>\n",
              "  </thead>\n",
              "  <tbody>\n",
              "    <tr>\n",
              "      <td>1</td>\n",
              "      <td>0.671900</td>\n",
              "      <td>0.664029</td>\n",
              "      <td>0.933333</td>\n",
              "      <td>0.933333</td>\n",
              "      <td>0.933333</td>\n",
              "      <td>0.933333</td>\n",
              "    </tr>\n",
              "    <tr>\n",
              "      <td>2</td>\n",
              "      <td>0.420400</td>\n",
              "      <td>0.338432</td>\n",
              "      <td>0.966667</td>\n",
              "      <td>0.968006</td>\n",
              "      <td>0.966667</td>\n",
              "      <td>0.966630</td>\n",
              "    </tr>\n",
              "    <tr>\n",
              "      <td>3</td>\n",
              "      <td>0.287000</td>\n",
              "      <td>0.211414</td>\n",
              "      <td>0.966667</td>\n",
              "      <td>0.966667</td>\n",
              "      <td>0.966667</td>\n",
              "      <td>0.966667</td>\n",
              "    </tr>\n",
              "    <tr>\n",
              "      <td>4</td>\n",
              "      <td>0.156600</td>\n",
              "      <td>0.161709</td>\n",
              "      <td>0.977778</td>\n",
              "      <td>0.978124</td>\n",
              "      <td>0.977778</td>\n",
              "      <td>0.977772</td>\n",
              "    </tr>\n",
              "    <tr>\n",
              "      <td>5</td>\n",
              "      <td>0.162400</td>\n",
              "      <td>0.145265</td>\n",
              "      <td>0.983333</td>\n",
              "      <td>0.983421</td>\n",
              "      <td>0.983333</td>\n",
              "      <td>0.983332</td>\n",
              "    </tr>\n",
              "  </tbody>\n",
              "</table><p>"
            ]
          },
          "metadata": {}
        },
        {
          "output_type": "stream",
          "name": "stdout",
          "text": [
            "Model and tokenizer for Fold 2 saved to /content/drive/My Drive/AI/bert_ver2_fold_2\n"
          ]
        },
        {
          "output_type": "display_data",
          "data": {
            "text/plain": [
              "<IPython.core.display.HTML object>"
            ],
            "text/html": [
              "\n",
              "    <div>\n",
              "      \n",
              "      <progress value='45' max='45' style='width:300px; height:20px; vertical-align: middle;'></progress>\n",
              "      [45/45 00:02]\n",
              "    </div>\n",
              "    "
            ]
          },
          "metadata": {}
        },
        {
          "output_type": "stream",
          "name": "stdout",
          "text": [
            "\n",
            "Metrics for Fold 2\n",
            "  Accuracy: 0.9833\n",
            "  Precision: 0.9834\n",
            "  Recall: 0.9833\n",
            "  F1-score: 0.9833\n",
            "\n",
            "Starting training for Fold 3/5\n"
          ]
        },
        {
          "output_type": "stream",
          "name": "stderr",
          "text": [
            "Some weights of BertForSequenceClassification were not initialized from the model checkpoint at bert-base-uncased and are newly initialized: ['classifier.bias', 'classifier.weight']\n",
            "You should probably TRAIN this model on a down-stream task to be able to use it for predictions and inference.\n",
            "/usr/local/lib/python3.10/dist-packages/transformers/training_args.py:1575: FutureWarning: `evaluation_strategy` is deprecated and will be removed in version 4.46 of 🤗 Transformers. Use `eval_strategy` instead\n",
            "  warnings.warn(\n",
            "<ipython-input-5-8636de5daa98>:36: FutureWarning: `tokenizer` is deprecated and will be removed in version 5.0.0 for `Trainer.__init__`. Use `processing_class` instead.\n",
            "  trainer = Trainer(\n"
          ]
        },
        {
          "output_type": "display_data",
          "data": {
            "text/plain": [
              "<IPython.core.display.HTML object>"
            ],
            "text/html": [
              "\n",
              "    <div>\n",
              "      \n",
              "      <progress value='900' max='900' style='width:300px; height:20px; vertical-align: middle;'></progress>\n",
              "      [900/900 03:36, Epoch 5/5]\n",
              "    </div>\n",
              "    <table border=\"1\" class=\"dataframe\">\n",
              "  <thead>\n",
              " <tr style=\"text-align: left;\">\n",
              "      <th>Epoch</th>\n",
              "      <th>Training Loss</th>\n",
              "      <th>Validation Loss</th>\n",
              "      <th>Accuracy</th>\n",
              "      <th>Precision</th>\n",
              "      <th>Recall</th>\n",
              "      <th>F1</th>\n",
              "    </tr>\n",
              "  </thead>\n",
              "  <tbody>\n",
              "    <tr>\n",
              "      <td>1</td>\n",
              "      <td>0.702600</td>\n",
              "      <td>0.659044</td>\n",
              "      <td>0.927778</td>\n",
              "      <td>0.929176</td>\n",
              "      <td>0.927778</td>\n",
              "      <td>0.927430</td>\n",
              "    </tr>\n",
              "    <tr>\n",
              "      <td>2</td>\n",
              "      <td>0.366400</td>\n",
              "      <td>0.323478</td>\n",
              "      <td>0.972222</td>\n",
              "      <td>0.972125</td>\n",
              "      <td>0.972222</td>\n",
              "      <td>0.972128</td>\n",
              "    </tr>\n",
              "    <tr>\n",
              "      <td>3</td>\n",
              "      <td>0.224800</td>\n",
              "      <td>0.205520</td>\n",
              "      <td>0.977778</td>\n",
              "      <td>0.977859</td>\n",
              "      <td>0.977778</td>\n",
              "      <td>0.977681</td>\n",
              "    </tr>\n",
              "    <tr>\n",
              "      <td>4</td>\n",
              "      <td>0.159300</td>\n",
              "      <td>0.153614</td>\n",
              "      <td>0.977778</td>\n",
              "      <td>0.977859</td>\n",
              "      <td>0.977778</td>\n",
              "      <td>0.977681</td>\n",
              "    </tr>\n",
              "    <tr>\n",
              "      <td>5</td>\n",
              "      <td>0.167800</td>\n",
              "      <td>0.138321</td>\n",
              "      <td>0.977778</td>\n",
              "      <td>0.977859</td>\n",
              "      <td>0.977778</td>\n",
              "      <td>0.977681</td>\n",
              "    </tr>\n",
              "  </tbody>\n",
              "</table><p>"
            ]
          },
          "metadata": {}
        },
        {
          "output_type": "stream",
          "name": "stdout",
          "text": [
            "Model and tokenizer for Fold 3 saved to /content/drive/My Drive/AI/bert_ver2_fold_3\n"
          ]
        },
        {
          "output_type": "display_data",
          "data": {
            "text/plain": [
              "<IPython.core.display.HTML object>"
            ],
            "text/html": [
              "\n",
              "    <div>\n",
              "      \n",
              "      <progress value='45' max='45' style='width:300px; height:20px; vertical-align: middle;'></progress>\n",
              "      [45/45 00:02]\n",
              "    </div>\n",
              "    "
            ]
          },
          "metadata": {}
        },
        {
          "output_type": "stream",
          "name": "stdout",
          "text": [
            "\n",
            "Metrics for Fold 3\n",
            "  Accuracy: 0.9778\n",
            "  Precision: 0.9779\n",
            "  Recall: 0.9778\n",
            "  F1-score: 0.9777\n",
            "\n",
            "Starting training for Fold 4/5\n"
          ]
        },
        {
          "output_type": "stream",
          "name": "stderr",
          "text": [
            "Some weights of BertForSequenceClassification were not initialized from the model checkpoint at bert-base-uncased and are newly initialized: ['classifier.bias', 'classifier.weight']\n",
            "You should probably TRAIN this model on a down-stream task to be able to use it for predictions and inference.\n",
            "/usr/local/lib/python3.10/dist-packages/transformers/training_args.py:1575: FutureWarning: `evaluation_strategy` is deprecated and will be removed in version 4.46 of 🤗 Transformers. Use `eval_strategy` instead\n",
            "  warnings.warn(\n",
            "<ipython-input-5-8636de5daa98>:36: FutureWarning: `tokenizer` is deprecated and will be removed in version 5.0.0 for `Trainer.__init__`. Use `processing_class` instead.\n",
            "  trainer = Trainer(\n"
          ]
        },
        {
          "output_type": "display_data",
          "data": {
            "text/plain": [
              "<IPython.core.display.HTML object>"
            ],
            "text/html": [
              "\n",
              "    <div>\n",
              "      \n",
              "      <progress value='900' max='900' style='width:300px; height:20px; vertical-align: middle;'></progress>\n",
              "      [900/900 03:34, Epoch 5/5]\n",
              "    </div>\n",
              "    <table border=\"1\" class=\"dataframe\">\n",
              "  <thead>\n",
              " <tr style=\"text-align: left;\">\n",
              "      <th>Epoch</th>\n",
              "      <th>Training Loss</th>\n",
              "      <th>Validation Loss</th>\n",
              "      <th>Accuracy</th>\n",
              "      <th>Precision</th>\n",
              "      <th>Recall</th>\n",
              "      <th>F1</th>\n",
              "    </tr>\n",
              "  </thead>\n",
              "  <tbody>\n",
              "    <tr>\n",
              "      <td>1</td>\n",
              "      <td>0.710200</td>\n",
              "      <td>0.684376</td>\n",
              "      <td>0.866667</td>\n",
              "      <td>0.878183</td>\n",
              "      <td>0.866667</td>\n",
              "      <td>0.864827</td>\n",
              "    </tr>\n",
              "    <tr>\n",
              "      <td>2</td>\n",
              "      <td>0.375000</td>\n",
              "      <td>0.378368</td>\n",
              "      <td>0.944444</td>\n",
              "      <td>0.945685</td>\n",
              "      <td>0.944444</td>\n",
              "      <td>0.944383</td>\n",
              "    </tr>\n",
              "    <tr>\n",
              "      <td>3</td>\n",
              "      <td>0.217700</td>\n",
              "      <td>0.251122</td>\n",
              "      <td>0.950000</td>\n",
              "      <td>0.950079</td>\n",
              "      <td>0.950000</td>\n",
              "      <td>0.949997</td>\n",
              "    </tr>\n",
              "    <tr>\n",
              "      <td>4</td>\n",
              "      <td>0.152600</td>\n",
              "      <td>0.196454</td>\n",
              "      <td>0.966667</td>\n",
              "      <td>0.967000</td>\n",
              "      <td>0.966667</td>\n",
              "      <td>0.966657</td>\n",
              "    </tr>\n",
              "    <tr>\n",
              "      <td>5</td>\n",
              "      <td>0.166400</td>\n",
              "      <td>0.179616</td>\n",
              "      <td>0.972222</td>\n",
              "      <td>0.972307</td>\n",
              "      <td>0.972222</td>\n",
              "      <td>0.972220</td>\n",
              "    </tr>\n",
              "  </tbody>\n",
              "</table><p>"
            ]
          },
          "metadata": {}
        },
        {
          "output_type": "stream",
          "name": "stdout",
          "text": [
            "Model and tokenizer for Fold 4 saved to /content/drive/My Drive/AI/bert_ver2_fold_4\n"
          ]
        },
        {
          "output_type": "display_data",
          "data": {
            "text/plain": [
              "<IPython.core.display.HTML object>"
            ],
            "text/html": [
              "\n",
              "    <div>\n",
              "      \n",
              "      <progress value='45' max='45' style='width:300px; height:20px; vertical-align: middle;'></progress>\n",
              "      [45/45 00:02]\n",
              "    </div>\n",
              "    "
            ]
          },
          "metadata": {}
        },
        {
          "output_type": "stream",
          "name": "stdout",
          "text": [
            "\n",
            "Metrics for Fold 4\n",
            "  Accuracy: 0.9722\n",
            "  Precision: 0.9723\n",
            "  Recall: 0.9722\n",
            "  F1-score: 0.9722\n",
            "\n",
            "Starting training for Fold 5/5\n"
          ]
        },
        {
          "output_type": "stream",
          "name": "stderr",
          "text": [
            "Some weights of BertForSequenceClassification were not initialized from the model checkpoint at bert-base-uncased and are newly initialized: ['classifier.bias', 'classifier.weight']\n",
            "You should probably TRAIN this model on a down-stream task to be able to use it for predictions and inference.\n",
            "/usr/local/lib/python3.10/dist-packages/transformers/training_args.py:1575: FutureWarning: `evaluation_strategy` is deprecated and will be removed in version 4.46 of 🤗 Transformers. Use `eval_strategy` instead\n",
            "  warnings.warn(\n",
            "<ipython-input-5-8636de5daa98>:36: FutureWarning: `tokenizer` is deprecated and will be removed in version 5.0.0 for `Trainer.__init__`. Use `processing_class` instead.\n",
            "  trainer = Trainer(\n"
          ]
        },
        {
          "output_type": "display_data",
          "data": {
            "text/plain": [
              "<IPython.core.display.HTML object>"
            ],
            "text/html": [
              "\n",
              "    <div>\n",
              "      \n",
              "      <progress value='900' max='900' style='width:300px; height:20px; vertical-align: middle;'></progress>\n",
              "      [900/900 03:21, Epoch 5/5]\n",
              "    </div>\n",
              "    <table border=\"1\" class=\"dataframe\">\n",
              "  <thead>\n",
              " <tr style=\"text-align: left;\">\n",
              "      <th>Epoch</th>\n",
              "      <th>Training Loss</th>\n",
              "      <th>Validation Loss</th>\n",
              "      <th>Accuracy</th>\n",
              "      <th>Precision</th>\n",
              "      <th>Recall</th>\n",
              "      <th>F1</th>\n",
              "    </tr>\n",
              "  </thead>\n",
              "  <tbody>\n",
              "    <tr>\n",
              "      <td>1</td>\n",
              "      <td>0.750800</td>\n",
              "      <td>0.630801</td>\n",
              "      <td>0.950000</td>\n",
              "      <td>0.950671</td>\n",
              "      <td>0.950000</td>\n",
              "      <td>0.949478</td>\n",
              "    </tr>\n",
              "    <tr>\n",
              "      <td>2</td>\n",
              "      <td>0.419500</td>\n",
              "      <td>0.333881</td>\n",
              "      <td>0.983333</td>\n",
              "      <td>0.983607</td>\n",
              "      <td>0.983333</td>\n",
              "      <td>0.983331</td>\n",
              "    </tr>\n",
              "    <tr>\n",
              "      <td>3</td>\n",
              "      <td>0.332300</td>\n",
              "      <td>0.208235</td>\n",
              "      <td>0.988889</td>\n",
              "      <td>0.988980</td>\n",
              "      <td>0.988889</td>\n",
              "      <td>0.988889</td>\n",
              "    </tr>\n",
              "    <tr>\n",
              "      <td>4</td>\n",
              "      <td>0.166800</td>\n",
              "      <td>0.151272</td>\n",
              "      <td>0.988889</td>\n",
              "      <td>0.988980</td>\n",
              "      <td>0.988889</td>\n",
              "      <td>0.988889</td>\n",
              "    </tr>\n",
              "    <tr>\n",
              "      <td>5</td>\n",
              "      <td>0.225700</td>\n",
              "      <td>0.134040</td>\n",
              "      <td>0.988889</td>\n",
              "      <td>0.988980</td>\n",
              "      <td>0.988889</td>\n",
              "      <td>0.988889</td>\n",
              "    </tr>\n",
              "  </tbody>\n",
              "</table><p>"
            ]
          },
          "metadata": {}
        },
        {
          "output_type": "stream",
          "name": "stdout",
          "text": [
            "Model and tokenizer for Fold 5 saved to /content/drive/My Drive/AI/bert_ver2_fold_5\n"
          ]
        },
        {
          "output_type": "display_data",
          "data": {
            "text/plain": [
              "<IPython.core.display.HTML object>"
            ],
            "text/html": [
              "\n",
              "    <div>\n",
              "      \n",
              "      <progress value='45' max='45' style='width:300px; height:20px; vertical-align: middle;'></progress>\n",
              "      [45/45 00:02]\n",
              "    </div>\n",
              "    "
            ]
          },
          "metadata": {}
        },
        {
          "output_type": "stream",
          "name": "stdout",
          "text": [
            "\n",
            "Metrics for Fold 5\n",
            "  Accuracy: 0.9889\n",
            "  Precision: 0.9890\n",
            "  Recall: 0.9889\n",
            "  F1-score: 0.9889\n",
            "\n",
            "Final Aggregated Metrics Across All Folds:\n",
            "Metrics for Fold 1:\n",
            "  Accuracy: 0.9833\n",
            "  Precision: 0.9834\n",
            "  Recall: 0.9833\n",
            "  F1-score: 0.9833\n",
            "Metrics for Fold 2:\n",
            "  Accuracy: 0.9833\n",
            "  Precision: 0.9834\n",
            "  Recall: 0.9833\n",
            "  F1-score: 0.9833\n",
            "Metrics for Fold 3:\n",
            "  Accuracy: 0.9778\n",
            "  Precision: 0.9779\n",
            "  Recall: 0.9778\n",
            "  F1-score: 0.9777\n",
            "Metrics for Fold 4:\n",
            "  Accuracy: 0.9722\n",
            "  Precision: 0.9723\n",
            "  Recall: 0.9722\n",
            "  F1-score: 0.9722\n",
            "Metrics for Fold 5:\n",
            "  Accuracy: 0.9889\n",
            "  Precision: 0.9890\n",
            "  Recall: 0.9889\n",
            "  F1-score: 0.9889\n",
            "Accuracy: 0.9811 ± 0.0057\n",
            "Precision: 0.9812 ± 0.0057\n",
            "Recall: 0.9811 ± 0.0057\n",
            "F1: 0.9811 ± 0.0057\n"
          ]
        }
      ],
      "source": [
        "# A list is initialized to store results for each fold\n",
        "fold_results = []\n",
        "\n",
        "# Loop through each fold for training and validation\n",
        "for fold, (train_idx, val_idx) in enumerate(skf.split(df[\"Abstract\"], df[\"Label\"])):\n",
        "    print(f\"\\nStarting training for Fold {fold + 1}/{num_folds}\")   #Prints the current fold number (1-5)\n",
        "\n",
        "    # Split Abstract data and their respecitve labels into training and validation sets\n",
        "    # iloc is used to selecting the data by position\n",
        "    train_texts, val_texts = df[\"Abstract\"].iloc[train_idx], df[\"Abstract\"].iloc[val_idx]\n",
        "    train_labels, val_labels = df[\"Label\"].iloc[train_idx].tolist(), df[\"Label\"].iloc[val_idx].tolist()\n",
        "\n",
        "    # Create PyTorch datasets for training and validation\n",
        "    # The BERTDataset class from earlier is used and parameters are passed.\n",
        "    # The texts and labels are turned into lists and passed to the class along with the tokenizer\n",
        "    train_dataset = BERTDataset(train_texts.tolist(), train_labels, tokenizer)  #creating training dataset and stored in list\n",
        "    val_dataset = BERTDataset(val_texts.tolist(), val_labels, tokenizer)        #creating validation dataset and stored in list\n",
        "\n",
        "    # Initialize the pre-trained BERT model with number of labels passed\n",
        "    # Using pre-trained bert-base-uncased model.\n",
        "    model = BertForSequenceClassification.from_pretrained(\"bert-base-uncased\", num_labels=num_labels)\n",
        "\n",
        "    # Our training arguments\n",
        "    training_args = TrainingArguments(\n",
        "        output_dir=f\"./results/fold_{fold + 1}\",  # Output directory for model predictions and checkpoints\n",
        "        evaluation_strategy=\"epoch\",            # Evaluating at each epoch, epoch: one complete pass through the entire training data\n",
        "        learning_rate=2e-6,                     # learning rate: how quickly the model learns, if too high --> bounce around instead of converging, if too low --> takes too long to converge\n",
        "        per_device_train_batch_size=4,          # Adjusted to 4 for low memory\n",
        "        per_device_eval_batch_size=4,           # Batch size: number of training examples used in one iteration on training process\n",
        "        num_train_epochs=5,                     # Number of epochs\n",
        "        weight_decay=0.05,                      # Regularization: adding penalty to the loss function proportional to weight size\n",
        "        logging_dir=f\"./logs/fold_{fold + 1}\",  # Input directory for training logs\n",
        "        logging_steps=10,                       # Log every 10 steps\n",
        "        save_strategy=\"epoch\",                  # Saving model at each epoch\n",
        "        load_best_model_at_end=True,            # Load the best model after training\n",
        "        fp16=True,                              # Mixed precision training for efficiency\n",
        "        report_to=\"none\",                       # Disable W&B logging\n",
        "    )\n",
        "\n",
        "    # Initialize Trainer\n",
        "    \"\"\"Trainer is a feature complete training and evaluation loop for PyTorch.\n",
        "    \"\"\"\n",
        "    trainer = Trainer(\n",
        "        model=model,                    # The pretrained BERT model\n",
        "        args=training_args,             # Our training arguments\n",
        "        train_dataset=train_dataset,    # training dataset\n",
        "        eval_dataset=val_dataset,       # validation dataset\n",
        "        tokenizer=tokenizer,\n",
        "        compute_metrics=compute_metrics,\n",
        "    )\n",
        "\n",
        "    # Time to train the model with the settings mentioned above\n",
        "    trainer.train()\n",
        "\n",
        "    # After training, to save the model and tokenizer for each fold, put a print statement to know it is saved (to be sure)\n",
        "    model_save_path = f\"/content/drive/My Drive/AI/bert_ver2_fold_{fold + 1}\"\n",
        "    model.save_pretrained(model_save_path)\n",
        "    tokenizer.save_pretrained(model_save_path)\n",
        "    print(f\"Model and tokenizer for Fold {fold + 1} saved to {model_save_path}\")\n",
        "\n",
        "    # Run evaluation and return metrics\n",
        "    # Returns a dictionary containing evaluation loss and metrics computed from predictions, such as accuracy, precision, recall, and F1 score.\n",
        "    # Also contains epoch number assoicated and results are appended to fold_results list\n",
        "    eval_metrics = trainer.evaluate()\n",
        "    fold_results.append(eval_metrics)\n",
        "\n",
        "    # Print metrics: accuracy, precision, recall and f1 for current fold\n",
        "    print(f\"\\nMetrics for Fold {fold + 1}\")\n",
        "    print(f\"  Accuracy: {eval_metrics['eval_accuracy']:.4f}\")\n",
        "    print(f\"  Precision: {eval_metrics['eval_precision']:.4f}\")\n",
        "    print(f\"  Recall: {eval_metrics['eval_recall']:.4f}\")\n",
        "    print(f\"  F1-score: {eval_metrics['eval_f1']:.4f}\")\n",
        "\n",
        "# Aggregating metrics across all folds\n",
        "print(\"\\nFinal Aggregated Metrics Across All Folds:\")\n",
        "#the lists to store to metrics: accuracy, precision, recall and f1 are initialized\n",
        "final_results = {\n",
        "    \"accuracy\": [],\n",
        "    \"precision\": [],\n",
        "    \"recall\": [],\n",
        "    \"f1\": []\n",
        "}\n",
        "\n",
        "#looping through all folds\n",
        "for fold, metrics in enumerate(fold_results, 1):\n",
        "    #print the metrics for current fold\n",
        "    print(f\"Metrics for Fold {fold}:\")\n",
        "    print(f\"  Accuracy: {metrics['eval_accuracy']:.4f}\")\n",
        "    print(f\"  Precision: {metrics['eval_precision']:.4f}\")\n",
        "    print(f\"  Recall: {metrics['eval_recall']:.4f}\")\n",
        "    print(f\"  F1-score: {metrics['eval_f1']:.4f}\")\n",
        "\n",
        "    # Collect metrics for aggregation\n",
        "    # Appending the metrics for current fold to the final_results dictionary\n",
        "    final_results[\"accuracy\"].append(metrics[\"eval_accuracy\"])\n",
        "    final_results[\"precision\"].append(metrics[\"eval_precision\"])\n",
        "    final_results[\"recall\"].append(metrics[\"eval_recall\"])\n",
        "    final_results[\"f1\"].append(metrics[\"eval_f1\"])\n",
        "\n",
        "# Computing mean and standard deviation for aggregated metrics to interpret results\n",
        "for metric, scores in final_results.items():\n",
        "    mean_score = np.mean(scores)\n",
        "    std_score = np.std(scores)\n",
        "    # print the mean and standard deviation for each metric\n",
        "    print(f\"{metric.capitalize()}: {mean_score:.4f} ± {std_score:.4f}\")"
      ]
    },
    {
      "cell_type": "markdown",
      "source": [
        "**Part 3: Plotting and Calculating the Results**\n",
        "\n",
        "This part is for plotting the training and validation loss across all folds"
      ],
      "metadata": {
        "id": "CAQ1KK9OwElB"
      }
    },
    {
      "cell_type": "code",
      "source": [
        "# Did not include loading the model back because it is in the same file\n",
        "# Importing necessary libraries\n",
        "import matplotlib.pyplot as plt     #For plotting\n",
        "import numpy as np\n",
        "\n",
        "# Example: Simulated training and validation losses for 5 folds and 5 epochs\n",
        "# Replace these with actual extracted data\n",
        "folds = 5\n",
        "epochs_per_fold = 5\n",
        "training_losses = [\n",
        "    [0.651200, 0.355200, 0.253300, 0.164000, 0.081700],  # Fold 1\n",
        "    [0.671900, 0.420400, 0.287000, 0.156600, 0.162400],  # Fold 2\n",
        "    [0.702600, 0.366400, 0.224800, 0.159300, 0.167800],  # Fold 3\n",
        "    [0.710200, 0.375000, 0.217700, 0.152600, 0.166400],  # Fold 4\n",
        "    [0.750800, 0.419500, 0.332300, 0.166800, 0.225700],  # Fold 5\n",
        "]\n",
        "validation_losses = [\n",
        "    [0.636359, 0.320909, 0.158114, 0.104859, 0.093837],  # Fold 1\n",
        "    [0.664029, 0.338432, 0.211414, 0.161709, 0.145265],  # Fold 2\n",
        "    [0.659044, 0.323478, 0.205520, 0.153614, 0.138321],  # Fold 3\n",
        "    [0.684376, 0.378368, 0.251122, 0.196454, 0.179616],  # Fold 4\n",
        "    [0.630801, 0.333881, 0.208235, 0.151272, 0.134040],  # Fold 5\n",
        "]\n",
        "\n",
        "# Taking the arithmetic average of the losses across folds for each epoch\n",
        "training_avg = np.mean(training_losses, axis=0)\n",
        "validation_avg = np.mean(validation_losses, axis=0)\n",
        "\n",
        "# Plotting training and validation loss\n",
        "epochs = range(1, epochs_per_fold + 1)  # Epochs: 1 to 5\n",
        "\n",
        "plt.figure(figsize=(10, 6))\n",
        "plt.plot(epochs, training_avg, label=\"Average Training Loss\", color=\"blue\", linewidth=2, marker=\"o\")\n",
        "plt.plot(epochs, validation_avg, label=\"Average Validation Loss\", color=\"orange\", linewidth=2, marker=\"s\")\n",
        "plt.xlabel(\"Epochs\")\n",
        "plt.ylabel(\"Loss\")\n",
        "plt.title(\"Average Training and Validation Loss Across 5 Folds\")\n",
        "plt.legend()\n",
        "plt.grid(True)\n",
        "plt.show()"
      ],
      "metadata": {
        "colab": {
          "base_uri": "https://localhost:8080/",
          "height": 564
        },
        "id": "497e7w5vFft8",
        "outputId": "45f66b5e-87e7-442e-f321-46eae4433f25"
      },
      "execution_count": null,
      "outputs": [
        {
          "output_type": "display_data",
          "data": {
            "text/plain": [
              "<Figure size 1000x600 with 1 Axes>"
            ],
            "image/png": "[encoded data removed]"
          },
          "metadata": {}
        }
      ]
    },
    {
      "cell_type": "markdown",
      "source": [
        "\n",
        "This part is for drawing confusion matrix to evaluate our model classification performance"
      ],
      "metadata": {
        "id": "sefypeuowKNC"
      }
    },
    {
      "cell_type": "code",
      "source": [
        "# Importing necessary libraries\n",
        "from sklearn.metrics import confusion_matrix    #For confusion matrix\n",
        "import seaborn as sns                           #For plotting\n",
        "import matplotlib.pyplot as plt\n",
        "import numpy as np\n",
        "\n",
        "# Initializing storage of lists for all true labels and predictions\n",
        "all_true_labels = []\n",
        "all_preds = []\n",
        "\n",
        "# Looping through folds to collect predictions and true labels\n",
        "for fold, (train_idx, val_idx) in enumerate(skf.split(df[\"Abstract\"], df[\"Label\"])):\n",
        "    print(f\"Processing Fold {fold + 1}/{num_folds} for Confusion Matrix\")\n",
        "\n",
        "    # True labels for this fold\n",
        "    val_labels = df[\"Label\"].iloc[val_idx].tolist()\n",
        "    all_true_labels.extend(val_labels)\n",
        "\n",
        "    # Predictions for this fold\n",
        "    predictions = trainer.predict(val_dataset)  # Run prediction on validation dataset\n",
        "    preds = np.argmax(predictions.predictions, axis=1)\n",
        "    all_preds.extend(preds)\n",
        "\n",
        "# Computing the overall confusion matrix\n",
        "cm = confusion_matrix(all_true_labels, all_preds)\n",
        "\n",
        "# Label mapping for the confusion matrix\n",
        "# 0 for Astronomy, 1 for Psychology, 2 for Sociology\n",
        "unique_labels = df[\"Label\"].unique()\n",
        "label_mapping = {i: label for i, label in enumerate(unique_labels)}\n",
        "\n",
        "# Plotting confusion matrix\n",
        "plt.figure(figsize=(10, 8))\n",
        "sns.heatmap(cm, annot=True, fmt=\"d\", cmap=\"Blues\",\n",
        "            xticklabels=label_mapping.values(), yticklabels=label_mapping.values())\n",
        "plt.xlabel(\"Predicted\")\n",
        "plt.ylabel(\"True\")\n",
        "plt.title(\"Combined Confusion Matrix Across All Folds\")\n",
        "plt.show()"
      ],
      "metadata": {
        "colab": {
          "base_uri": "https://localhost:8080/",
          "height": 886
        },
        "id": "RoDnUZ7HwOjT",
        "outputId": "57cbb5f9-26ea-4061-9811-751a2871956b"
      },
      "execution_count": null,
      "outputs": [
        {
          "output_type": "stream",
          "name": "stdout",
          "text": [
            "Processing Fold 1/5 for Confusion Matrix\n"
          ]
        },
        {
          "output_type": "display_data",
          "data": {
            "text/plain": [
              "<IPython.core.display.HTML object>"
            ],
            "text/html": [
              "\n",
              "    <div>\n",
              "      \n",
              "      <progress value='140' max='900' style='width:300px; height:20px; vertical-align: middle;'></progress>\n",
              "      [140/900 00:25 < 02:20, 5.40 it/s, Epoch 0.77/5]\n",
              "    </div>\n",
              "    <table border=\"1\" class=\"dataframe\">\n",
              "  <thead>\n",
              " <tr style=\"text-align: left;\">\n",
              "      <th>Epoch</th>\n",
              "      <th>Training Loss</th>\n",
              "      <th>Validation Loss</th>\n",
              "    </tr>\n",
              "  </thead>\n",
              "  <tbody>\n",
              "  </tbody>\n",
              "</table><p>\n",
              "    <div>\n",
              "      \n",
              "      <progress value='45' max='45' style='width:300px; height:20px; vertical-align: middle;'></progress>\n",
              "      [45/45 00:02]\n",
              "    </div>\n",
              "    "
            ]
          },
          "metadata": {}
        },
        {
          "output_type": "stream",
          "name": "stdout",
          "text": [
            "Processing Fold 2/5 for Confusion Matrix\n",
            "Processing Fold 3/5 for Confusion Matrix\n",
            "Processing Fold 4/5 for Confusion Matrix\n",
            "Processing Fold 5/5 for Confusion Matrix\n"
          ]
        },
        {
          "output_type": "display_data",
          "data": {
            "text/plain": [
              "<Figure size 1000x800 with 2 Axes>"
            ],
            "image/png": "[encoded data removed]"
          },
          "metadata": {}
        }
      ]
    }
  ],
  "metadata": {
    "colab": {
      "provenance": [],
      "gpuType": "T4"
    },
    "kernelspec": {
      "display_name": "Python 3",
      "name": "python3"
    },
    "language_info": {
      "name": "python"
    },
    "accelerator": "GPU"
  },
  "nbformat": 4,
  "nbformat_minor": 0
}