{
 "cells": [
  {
   "cell_type": "code",
   "execution_count": 2,
   "id": "cb6bb74c",
   "metadata": {},
   "outputs": [
    {
     "name": "stdout",
     "output_type": "stream",
     "text": [
      "Fetching abstracts for: cat:astro-ph OR \"cosmology\" OR \"dark matter\" OR \"exoplanets\" OR \"black holes\"\n",
      "Saving data to Astronomy_abstracts.csv...\n",
      "Data saved to Astronomy_abstracts.csv\n"
     ]
    }
   ],
   "source": [
    "import requests\n",
    "import pandas as pd\n",
    "from xml.etree import ElementTree as ET\n",
    "\n",
    "def fetch_arxiv_abstracts(query, max_results=300):\n",
    "    print(f\"Fetching abstracts for: {query}\")\n",
    "    base_url = \"http://export.arxiv.org/api/query\"\n",
    "    params = {\n",
    "        \"search_query\": query,\n",
    "        \"start\": 0,\n",
    "        \"max_results\": max_results\n",
    "    }\n",
    "\n",
    "    response = requests.get(base_url, params=params)\n",
    "    if response.status_code != 200:\n",
    "        print(f\"Error fetching data from arXiv: {response.status_code}\")\n",
    "        return [], []\n",
    "\n",
    "    # Parse XML response\n",
    "    root = ET.fromstring(response.content)\n",
    "    abstracts = []\n",
    "    links = []\n",
    "\n",
    "    for entry in root.findall(\"{http://www.w3.org/2005/Atom}entry\"):\n",
    "        try:\n",
    "            abstract = entry.find(\"{http://www.w3.org/2005/Atom}summary\").text.strip()\n",
    "            link = entry.find(\"{http://www.w3.org/2005/Atom}id\").text.strip()\n",
    "            abstracts.append(abstract)\n",
    "            links.append(link)\n",
    "        except AttributeError:\n",
    "            continue  # Skip entries with missing abstracts or links\n",
    "\n",
    "    return abstracts, links\n",
    "\n",
    "def save_to_csv(abstracts, links, filename):\n",
    "    print(f\"Saving data to {filename}...\")\n",
    "    data = {\"Abstract\": abstracts, \"Link\": links}\n",
    "    df = pd.DataFrame(data)\n",
    "    df.to_csv(filename, index=False)\n",
    "    print(f\"Data saved to {filename}\")\n",
    "\n",
    "if __name__ == \"__main__\":\n",
    "    query = 'cat:astro-ph OR \"cosmology\" OR \"dark matter\" OR \"exoplanets\" OR \"black holes\"'\n",
    "    abstracts, links = fetch_arxiv_abstracts(query)\n",
    "    save_to_csv(abstracts, links, \"Astronomy_abstracts.csv\")\n"
   ]
  },
  {
   "cell_type": "code",
   "execution_count": 3,
   "id": "67be4f60",
   "metadata": {},
   "outputs": [
    {
     "name": "stdout",
     "output_type": "stream",
     "text": [
      "Fetching abstracts for: \"cognitive psychology\" OR \"mental health\" OR \"emotion regulation\" OR \"decision making\"\n",
      "Saving data to Psychology_abstracts.csv...\n",
      "Data saved to Psychology_abstracts.csv\n"
     ]
    }
   ],
   "source": [
    "import requests\n",
    "import pandas as pd\n",
    "from xml.etree import ElementTree as ET\n",
    "\n",
    "def fetch_arxiv_abstracts(query, max_results=300):\n",
    "    print(f\"Fetching abstracts for: {query}\")\n",
    "    base_url = \"http://export.arxiv.org/api/query\"\n",
    "    params = {\n",
    "        \"search_query\": query,\n",
    "        \"start\": 0,\n",
    "        \"max_results\": max_results\n",
    "    }\n",
    "\n",
    "    response = requests.get(base_url, params=params)\n",
    "    if response.status_code != 200:\n",
    "        print(f\"Error fetching data from arXiv: {response.status_code}\")\n",
    "        return [], []\n",
    "\n",
    "    # Parse XML response\n",
    "    root = ET.fromstring(response.content)\n",
    "    abstracts = []\n",
    "    links = []\n",
    "\n",
    "    for entry in root.findall(\"{http://www.w3.org/2005/Atom}entry\"):\n",
    "        try:\n",
    "            abstract = entry.find(\"{http://www.w3.org/2005/Atom}summary\").text.strip()\n",
    "            link = entry.find(\"{http://www.w3.org/2005/Atom}id\").text.strip()\n",
    "            abstracts.append(abstract)\n",
    "            links.append(link)\n",
    "        except AttributeError:\n",
    "            continue  # Skip entries with missing abstracts or links\n",
    "\n",
    "    return abstracts, links\n",
    "\n",
    "def save_to_csv(abstracts, links, filename):\n",
    "    print(f\"Saving data to {filename}...\")\n",
    "    data = {\"Abstract\": abstracts, \"Link\": links}\n",
    "    df = pd.DataFrame(data)\n",
    "    df.to_csv(filename, index=False)\n",
    "    print(f\"Data saved to {filename}\")\n",
    "\n",
    "if __name__ == \"__main__\":\n",
    "    query = '\"cognitive psychology\" OR \"mental health\" OR \"emotion regulation\" OR \"decision making\"'\n",
    "    abstracts, links = fetch_arxiv_abstracts(query)\n",
    "    save_to_csv(abstracts, links, \"Psychology_abstracts.csv\")\n"
   ]
  },
  {
   "cell_type": "code",
   "execution_count": 5,
   "id": "ed11d8ed",
   "metadata": {},
   "outputs": [
    {
     "name": "stdout",
     "output_type": "stream",
     "text": [
      "Fetching abstracts for: \"social inequality\" OR \"gender studies\" OR \"urban sociology\" OR \"race and ethnicity\" OR \"social movements\" OR \"public policy\" OR \"cultural studies\" OR \"globalization\"\n",
      "Saving data to Sociology_abstracts.csv...\n",
      "Data saved to Sociology_abstracts.csv\n"
     ]
    }
   ],
   "source": [
    "import requests\n",
    "import pandas as pd\n",
    "from xml.etree import ElementTree as ET\n",
    "\n",
    "def fetch_arxiv_abstracts(query, max_results=300):\n",
    "    print(f\"Fetching abstracts for: {query}\")\n",
    "    base_url = \"http://export.arxiv.org/api/query\"\n",
    "    params = {\n",
    "        \"search_query\": query,\n",
    "        \"start\": 0,\n",
    "        \"max_results\": max_results\n",
    "    }\n",
    "\n",
    "    response = requests.get(base_url, params=params)\n",
    "    if response.status_code != 200:\n",
    "        print(f\"Error fetching data from arXiv: {response.status_code}\")\n",
    "        return [], []\n",
    "\n",
    "    # Parse XML response\n",
    "    root = ET.fromstring(response.content)\n",
    "    abstracts = []\n",
    "    links = []\n",
    "\n",
    "    for entry in root.findall(\"{http://www.w3.org/2005/Atom}entry\"):\n",
    "        try:\n",
    "            abstract = entry.find(\"{http://www.w3.org/2005/Atom}summary\").text.strip()\n",
    "            link = entry.find(\"{http://www.w3.org/2005/Atom}id\").text.strip()\n",
    "            abstracts.append(abstract)\n",
    "            links.append(link)\n",
    "        except AttributeError:\n",
    "            continue  # Skip entries with missing abstracts or links\n",
    "\n",
    "    return abstracts, links\n",
    "\n",
    "def save_to_csv(abstracts, links, filename):\n",
    "    print(f\"Saving data to {filename}...\")\n",
    "    data = {\"Abstract\": abstracts, \"Link\": links}\n",
    "    df = pd.DataFrame(data)\n",
    "    df.to_csv(filename, index=False)\n",
    "    print(f\"Data saved to {filename}\")\n",
    "\n",
    "if __name__ == \"__main__\":\n",
    "    query = '\"social inequality\" OR \"gender studies\" OR \"urban sociology\" OR \"race and ethnicity\" OR \"social movements\" OR \"public policy\" OR \"cultural studies\" OR \"globalization\"'\n",
    "    abstracts, links = fetch_arxiv_abstracts(query)\n",
    "    save_to_csv(abstracts, links, \"Sociology_abstracts.csv\")\n"
   ]
  },
  {
   "cell_type": "code",
   "execution_count": null,
   "id": "558457a1",
   "metadata": {},
   "outputs": [],
   "source": []
  }
 ],
 "metadata": {
  "kernelspec": {
   "display_name": "Python [conda env:base] *",
   "language": "python",
   "name": "conda-base-py"
  },
  "language_info": {
   "codemirror_mode": {
    "name": "ipython",
    "version": 3
   },
   "file_extension": ".py",
   "mimetype": "text/x-python",
   "name": "python",
   "nbconvert_exporter": "python",
   "pygments_lexer": "ipython3",
   "version": "3.12.7"
  }
 },
 "nbformat": 4,
 "nbformat_minor": 5
}
